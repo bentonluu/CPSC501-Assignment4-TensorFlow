{
  "nbformat": 4,
  "nbformat_minor": 0,
  "metadata": {
    "colab": {
      "name": "MNISTStarter.ipynb",
      "provenance": [],
      "collapsed_sections": [],
      "include_colab_link": true
    },
    "kernelspec": {
      "name": "python3",
      "display_name": "Python 3"
    }
  },
  "cells": [
    {
      "cell_type": "markdown",
      "metadata": {
        "id": "view-in-github",
        "colab_type": "text"
      },
      "source": [
        "<a href=\"https://colab.research.google.com/github/bentonluu/CPSC501-Assignment4-TensorFlow/blob/master/MNISTStarter.ipynb\" target=\"_parent\"><img src=\"https://colab.research.google.com/assets/colab-badge.svg\" alt=\"Open In Colab\"/></a>"
      ]
    },
    {
      "cell_type": "code",
      "metadata": {
        "id": "m4eZDEIAx0aH",
        "colab_type": "code",
        "outputId": "6e992c43-7ef1-4687-c2c7-f5b4b08c394c",
        "colab": {
          "base_uri": "https://localhost:8080/",
          "height": 34
        }
      },
      "source": [
        "try:\n",
        "  # %tensorflow_version only exists in Colab.\n",
        "  %tensorflow_version 2.x\n",
        "except Exception:\n",
        "  pass"
      ],
      "execution_count": 0,
      "outputs": [
        {
          "output_type": "stream",
          "text": [
            "TensorFlow 2.x selected.\n"
          ],
          "name": "stdout"
        }
      ]
    },
    {
      "cell_type": "code",
      "metadata": {
        "id": "ITCcIDcJx02Q",
        "colab_type": "code",
        "outputId": "f1ee2b6f-0655-4b41-b469-640480bed23f",
        "colab": {
          "base_uri": "https://localhost:8080/",
          "height": 680
        }
      },
      "source": [
        "import tensorflow as tf\n",
        "\n",
        "print(\"--Get data--\")\n",
        "mnist = tf.keras.datasets.mnist\n",
        "(x_train, y_train), (x_test, y_test) = mnist.load_data()\n",
        "\n",
        "print(\"--Process data--\")\n",
        "x_train, x_test = x_train / 255.0, x_test / 255.0\n",
        "\n",
        "print(\"--Make model--\")\n",
        "model = tf.keras.models.Sequential([\n",
        "  tf.keras.layers.Flatten(input_shape=(28, 28)),\n",
        "  tf.keras.layers.Dense(256, activation='relu'),\n",
        "  tf.keras.layers.Dropout(0.1),\n",
        "  tf.keras.layers.Dense(10, activation='softmax'),\n",
        "])\n",
        "model.compile(optimizer='adam', loss='sparse_categorical_crossentropy', metrics=['accuracy'])\n",
        "\n",
        "print(\"--Fit model--\")\n",
        "model.fit(x_train, y_train, epochs=15, verbose=2)\n",
        "\n",
        "print(\"--Evaluate model--\")\n",
        "model_loss, model_acc = model.evaluate(x_test,  y_test, verbose=2)\n",
        "print(f\"Model Loss:    {model_loss:.2f}\")\n",
        "print(f\"Model Accuray: {model_acc*100:.1f}%\")"
      ],
      "execution_count": 0,
      "outputs": [
        {
          "output_type": "stream",
          "text": [
            "--Get data--\n",
            "--Process data--\n",
            "--Make model--\n",
            "--Fit model--\n",
            "Train on 60000 samples\n",
            "Epoch 1/15\n",
            "60000/60000 - 5s - loss: 0.2393 - accuracy: 0.9296\n",
            "Epoch 2/15\n",
            "60000/60000 - 5s - loss: 0.1030 - accuracy: 0.9693\n",
            "Epoch 3/15\n",
            "60000/60000 - 5s - loss: 0.0723 - accuracy: 0.9778\n",
            "Epoch 4/15\n",
            "60000/60000 - 5s - loss: 0.0558 - accuracy: 0.9820\n",
            "Epoch 5/15\n",
            "60000/60000 - 5s - loss: 0.0420 - accuracy: 0.9867\n",
            "Epoch 6/15\n",
            "60000/60000 - 5s - loss: 0.0352 - accuracy: 0.9885\n",
            "Epoch 7/15\n",
            "60000/60000 - 5s - loss: 0.0296 - accuracy: 0.9903\n",
            "Epoch 8/15\n",
            "60000/60000 - 5s - loss: 0.0255 - accuracy: 0.9915\n",
            "Epoch 9/15\n",
            "60000/60000 - 5s - loss: 0.0217 - accuracy: 0.9926\n",
            "Epoch 10/15\n",
            "60000/60000 - 5s - loss: 0.0184 - accuracy: 0.9935\n",
            "Epoch 11/15\n",
            "60000/60000 - 5s - loss: 0.0178 - accuracy: 0.9938\n",
            "Epoch 12/15\n",
            "60000/60000 - 5s - loss: 0.0173 - accuracy: 0.9939\n",
            "Epoch 13/15\n",
            "60000/60000 - 5s - loss: 0.0155 - accuracy: 0.9947\n",
            "Epoch 14/15\n",
            "60000/60000 - 5s - loss: 0.0124 - accuracy: 0.9959\n",
            "Epoch 15/15\n",
            "60000/60000 - 5s - loss: 0.0131 - accuracy: 0.9953\n",
            "--Evaluate model--\n",
            "10000/1 - 1s - loss: 0.0379 - accuracy: 0.9835\n",
            "Model Loss:    0.08\n",
            "Model Accuray: 98.4%\n"
          ],
          "name": "stdout"
        }
      ]
    },
    {
      "cell_type": "code",
      "metadata": {
        "id": "uqKuNbSJEaWc",
        "colab_type": "code",
        "colab": {}
      },
      "source": [
        "#Save Model to MNIST.h5\n",
        "model.save('MNIST.h5')"
      ],
      "execution_count": 0,
      "outputs": []
    },
    {
      "cell_type": "code",
      "metadata": {
        "id": "0Vc4ePZwERJW",
        "colab_type": "code",
        "colab": {}
      },
      "source": [
        "from google.colab import files\n",
        "files.download('MNIST.h5')"
      ],
      "execution_count": 0,
      "outputs": []
    }
  ]
}